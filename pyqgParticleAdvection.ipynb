{
 "cells": [
  {
   "cell_type": "code",
   "execution_count": 5,
   "id": "d5ae9b07-4ccb-48bc-8991-a553dc5fd6ad",
   "metadata": {},
   "outputs": [],
   "source": [
    "import numpy as np\n",
    "from matplotlib import pyplot as plt\n",
    "%matplotlib inline\n",
    "\n",
    "import pyqg\n",
    "from pyqg import diagnostic_tools as tools"
   ]
  },
  {
   "cell_type": "code",
   "execution_count": 8,
   "id": "57ab322c-2da4-4b4d-887b-8599c5d3a4cb",
   "metadata": {},
   "outputs": [
    {
     "ename": "RuntimeError",
     "evalue": "Undefined plan with nthreads. This is a bug",
     "output_type": "error",
     "traceback": [
      "\u001b[0;31m---------------------------------------------------------------------------\u001b[0m",
      "\u001b[0;31mRuntimeError\u001b[0m                              Traceback (most recent call last)",
      "\u001b[0;31mRuntimeError\u001b[0m: Undefined plan with nthreads. This is a bug"
     ]
    },
    {
     "name": "stderr",
     "output_type": "stream",
     "text": [
      "Exception ignored in: 'pyfftw.pyfftw._fftw_plan_with_nthreads_null'\n",
      "Traceback (most recent call last):\n",
      "  File \"/home/nick/miniconda3/envs/pyqgenv/lib/python3.10/site-packages/pyqg/model.py\", line 216, in __init__\n",
      "    PseudoSpectralKernel.__init__(self, nz, ny, nx, ntd,\n",
      "RuntimeError: Undefined plan with nthreads. This is a bug\n"
     ]
    },
    {
     "ename": "RuntimeError",
     "evalue": "Undefined plan with nthreads. This is a bug",
     "output_type": "error",
     "traceback": [
      "\u001b[0;31m---------------------------------------------------------------------------\u001b[0m",
      "\u001b[0;31mRuntimeError\u001b[0m                              Traceback (most recent call last)",
      "\u001b[0;31mRuntimeError\u001b[0m: Undefined plan with nthreads. This is a bug"
     ]
    },
    {
     "name": "stderr",
     "output_type": "stream",
     "text": [
      "Exception ignored in: 'pyfftw.pyfftw._fftw_plan_with_nthreads_null'\n",
      "Traceback (most recent call last):\n",
      "  File \"/home/nick/miniconda3/envs/pyqgenv/lib/python3.10/site-packages/pyqg/model.py\", line 216, in __init__\n",
      "    PseudoSpectralKernel.__init__(self, nz, ny, nx, ntd,\n",
      "RuntimeError: Undefined plan with nthreads. This is a bug\n"
     ]
    },
    {
     "ename": "RuntimeError",
     "evalue": "Undefined plan with nthreads. This is a bug",
     "output_type": "error",
     "traceback": [
      "\u001b[0;31m---------------------------------------------------------------------------\u001b[0m",
      "\u001b[0;31mRuntimeError\u001b[0m                              Traceback (most recent call last)",
      "\u001b[0;31mRuntimeError\u001b[0m: Undefined plan with nthreads. This is a bug"
     ]
    },
    {
     "name": "stderr",
     "output_type": "stream",
     "text": [
      "Exception ignored in: 'pyfftw.pyfftw._fftw_plan_with_nthreads_null'\n",
      "Traceback (most recent call last):\n",
      "  File \"/home/nick/miniconda3/envs/pyqgenv/lib/python3.10/site-packages/pyqg/model.py\", line 216, in __init__\n",
      "    PseudoSpectralKernel.__init__(self, nz, ny, nx, ntd,\n",
      "RuntimeError: Undefined plan with nthreads. This is a bug\n"
     ]
    },
    {
     "ename": "RuntimeError",
     "evalue": "Undefined plan with nthreads. This is a bug",
     "output_type": "error",
     "traceback": [
      "\u001b[0;31m---------------------------------------------------------------------------\u001b[0m",
      "\u001b[0;31mRuntimeError\u001b[0m                              Traceback (most recent call last)",
      "\u001b[0;31mRuntimeError\u001b[0m: Undefined plan with nthreads. This is a bug"
     ]
    },
    {
     "name": "stderr",
     "output_type": "stream",
     "text": [
      "Exception ignored in: 'pyfftw.pyfftw._fftw_plan_with_nthreads_null'\n",
      "Traceback (most recent call last):\n",
      "  File \"/home/nick/miniconda3/envs/pyqgenv/lib/python3.10/site-packages/pyqg/model.py\", line 216, in __init__\n",
      "    PseudoSpectralKernel.__init__(self, nz, ny, nx, ntd,\n",
      "RuntimeError: Undefined plan with nthreads. This is a bug\n"
     ]
    },
    {
     "ename": "RuntimeError",
     "evalue": "Undefined plan with nthreads. This is a bug",
     "output_type": "error",
     "traceback": [
      "\u001b[0;31m---------------------------------------------------------------------------\u001b[0m",
      "\u001b[0;31mRuntimeError\u001b[0m                              Traceback (most recent call last)",
      "\u001b[0;31mRuntimeError\u001b[0m: Undefined plan with nthreads. This is a bug"
     ]
    },
    {
     "name": "stderr",
     "output_type": "stream",
     "text": [
      "Exception ignored in: 'pyfftw.pyfftw._fftw_plan_with_nthreads_null'\n",
      "Traceback (most recent call last):\n",
      "  File \"/home/nick/miniconda3/envs/pyqgenv/lib/python3.10/site-packages/pyqg/model.py\", line 216, in __init__\n",
      "    PseudoSpectralKernel.__init__(self, nz, ny, nx, ntd,\n",
      "RuntimeError: Undefined plan with nthreads. This is a bug\n"
     ]
    },
    {
     "ename": "RuntimeError",
     "evalue": "Undefined plan with nthreads. This is a bug",
     "output_type": "error",
     "traceback": [
      "\u001b[0;31m---------------------------------------------------------------------------\u001b[0m",
      "\u001b[0;31mRuntimeError\u001b[0m                              Traceback (most recent call last)",
      "\u001b[0;31mRuntimeError\u001b[0m: Undefined plan with nthreads. This is a bug"
     ]
    },
    {
     "name": "stderr",
     "output_type": "stream",
     "text": [
      "Exception ignored in: 'pyfftw.pyfftw._fftw_plan_with_nthreads_null'\n",
      "Traceback (most recent call last):\n",
      "  File \"/home/nick/miniconda3/envs/pyqgenv/lib/python3.10/site-packages/pyqg/model.py\", line 216, in __init__\n",
      "    PseudoSpectralKernel.__init__(self, nz, ny, nx, ntd,\n",
      "RuntimeError: Undefined plan with nthreads. This is a bug\n"
     ]
    },
    {
     "ename": "RuntimeError",
     "evalue": "Undefined plan with nthreads. This is a bug",
     "output_type": "error",
     "traceback": [
      "\u001b[0;31m---------------------------------------------------------------------------\u001b[0m",
      "\u001b[0;31mRuntimeError\u001b[0m                              Traceback (most recent call last)",
      "\u001b[0;31mRuntimeError\u001b[0m: Undefined plan with nthreads. This is a bug"
     ]
    },
    {
     "name": "stderr",
     "output_type": "stream",
     "text": [
      "Exception ignored in: 'pyfftw.pyfftw._fftw_plan_with_nthreads_null'\n",
      "Traceback (most recent call last):\n",
      "  File \"/home/nick/miniconda3/envs/pyqgenv/lib/python3.10/site-packages/pyqg/model.py\", line 216, in __init__\n",
      "    PseudoSpectralKernel.__init__(self, nz, ny, nx, ntd,\n",
      "RuntimeError: Undefined plan with nthreads. This is a bug\n"
     ]
    },
    {
     "ename": "RuntimeError",
     "evalue": "Undefined plan with nthreads. This is a bug",
     "output_type": "error",
     "traceback": [
      "\u001b[0;31m---------------------------------------------------------------------------\u001b[0m",
      "\u001b[0;31mRuntimeError\u001b[0m                              Traceback (most recent call last)",
      "\u001b[0;31mRuntimeError\u001b[0m: Undefined plan with nthreads. This is a bug"
     ]
    },
    {
     "name": "stderr",
     "output_type": "stream",
     "text": [
      "Exception ignored in: 'pyfftw.pyfftw._fftw_plan_with_nthreads_null'\n",
      "Traceback (most recent call last):\n",
      "  File \"/home/nick/miniconda3/envs/pyqgenv/lib/python3.10/site-packages/pyqg/model.py\", line 216, in __init__\n",
      "    PseudoSpectralKernel.__init__(self, nz, ny, nx, ntd,\n",
      "RuntimeError: Undefined plan with nthreads. This is a bug\n",
      "INFO:  Logger initialized\n",
      "INFO: Step: 10000, Time: 7.20e+07, KE: 4.19e-04, CFL: 0.092\n",
      "INFO: Step: 20000, Time: 1.44e+08, KE: 4.56e-04, CFL: 0.095\n",
      "INFO: Step: 30000, Time: 2.16e+08, KE: 4.93e-04, CFL: 0.081\n",
      "INFO: Step: 40000, Time: 2.88e+08, KE: 4.85e-04, CFL: 0.083\n"
     ]
    }
   ],
   "source": [
    "year = 24*60*60*360\n",
    "m = pyqg.QGModel(tmax=10*year, twrite=10000,tavestart=5*year)\n",
    "m.run()"
   ]
  },
  {
   "cell_type": "code",
   "execution_count": 9,
   "id": "05a34d73-b981-4ed4-82d9-d856fc13dc3f",
   "metadata": {},
   "outputs": [
    {
     "ename": "ImportError",
     "evalue": "Xarray output in Pyqg requires the Xarray package, which is not installed on your system. Please install Xarray in order to activate this feature. Instructions at http://xarray.pydata.org/en/stable/getting-started-guide/installing.html#instructions",
     "output_type": "error",
     "traceback": [
      "\u001b[0;31m---------------------------------------------------------------------------\u001b[0m",
      "\u001b[0;31mModuleNotFoundError\u001b[0m                       Traceback (most recent call last)",
      "File \u001b[0;32m~/miniconda3/envs/pyqgenv/lib/python3.10/site-packages/pyqg/xarray_output.py:3\u001b[0m\n\u001b[1;32m      2\u001b[0m \u001b[38;5;28;01mtry\u001b[39;00m:\n\u001b[0;32m----> 3\u001b[0m     \u001b[38;5;28;01mimport\u001b[39;00m \u001b[38;5;21;01mxarray\u001b[39;00m \u001b[38;5;28;01mas\u001b[39;00m \u001b[38;5;21;01mxr\u001b[39;00m\n\u001b[1;32m      4\u001b[0m \u001b[38;5;28;01mexcept\u001b[39;00m \u001b[38;5;167;01mImportError\u001b[39;00m:\n",
      "\u001b[0;31mModuleNotFoundError\u001b[0m: No module named 'xarray'",
      "\nDuring handling of the above exception, another exception occurred:\n",
      "\u001b[0;31mImportError\u001b[0m                               Traceback (most recent call last)",
      "Cell \u001b[0;32mIn[9], line 1\u001b[0m\n\u001b[0;32m----> 1\u001b[0m m_ds \u001b[38;5;241m=\u001b[39m \u001b[43mm\u001b[49m\u001b[38;5;241;43m.\u001b[39;49m\u001b[43mto_dataset\u001b[49m\u001b[43m(\u001b[49m\u001b[43m)\u001b[49m\u001b[38;5;241m.\u001b[39misel(time\u001b[38;5;241m=\u001b[39m\u001b[38;5;241m-\u001b[39m\u001b[38;5;241m1\u001b[39m)\n\u001b[1;32m      2\u001b[0m m_ds\n",
      "File \u001b[0;32m~/miniconda3/envs/pyqgenv/lib/python3.10/site-packages/pyqg/model.py:834\u001b[0m, in \u001b[0;36mModel.to_dataset\u001b[0;34m(self)\u001b[0m\n\u001b[1;32m    827\u001b[0m \u001b[38;5;28;01mdef\u001b[39;00m \u001b[38;5;21mto_dataset\u001b[39m(\u001b[38;5;28mself\u001b[39m):\n\u001b[1;32m    828\u001b[0m \u001b[38;5;250m    \u001b[39m\u001b[38;5;124;03m\"\"\"Convert outputs from model to an xarray dataset\u001b[39;00m\n\u001b[1;32m    829\u001b[0m \u001b[38;5;124;03m    \u001b[39;00m\n\u001b[1;32m    830\u001b[0m \u001b[38;5;124;03m    Returns\u001b[39;00m\n\u001b[1;32m    831\u001b[0m \u001b[38;5;124;03m    -------\u001b[39;00m\n\u001b[1;32m    832\u001b[0m \u001b[38;5;124;03m    ds : xarray.Dataset\u001b[39;00m\n\u001b[1;32m    833\u001b[0m \u001b[38;5;124;03m    \"\"\"\u001b[39;00m\n\u001b[0;32m--> 834\u001b[0m     \u001b[38;5;28;01mfrom\u001b[39;00m \u001b[38;5;21;01m.\u001b[39;00m\u001b[38;5;21;01mxarray_output\u001b[39;00m \u001b[38;5;28;01mimport\u001b[39;00m model_to_dataset\n\u001b[1;32m    835\u001b[0m     \u001b[38;5;28;01mreturn\u001b[39;00m model_to_dataset(\u001b[38;5;28mself\u001b[39m)\n",
      "File \u001b[0;32m~/miniconda3/envs/pyqgenv/lib/python3.10/site-packages/pyqg/xarray_output.py:5\u001b[0m\n\u001b[1;32m      3\u001b[0m     \u001b[38;5;28;01mimport\u001b[39;00m \u001b[38;5;21;01mxarray\u001b[39;00m \u001b[38;5;28;01mas\u001b[39;00m \u001b[38;5;21;01mxr\u001b[39;00m\n\u001b[1;32m      4\u001b[0m \u001b[38;5;28;01mexcept\u001b[39;00m \u001b[38;5;167;01mImportError\u001b[39;00m:\n\u001b[0;32m----> 5\u001b[0m     \u001b[38;5;28;01mraise\u001b[39;00m \u001b[38;5;167;01mImportError\u001b[39;00m(\n\u001b[1;32m      6\u001b[0m         \u001b[38;5;124m\"\u001b[39m\u001b[38;5;124mXarray output in Pyqg requires the Xarray package, which is not installed on your system. \u001b[39m\u001b[38;5;124m\"\u001b[39m \n\u001b[1;32m      7\u001b[0m         \u001b[38;5;124m\"\u001b[39m\u001b[38;5;124mPlease install Xarray in order to activate this feature. \u001b[39m\u001b[38;5;124m\"\u001b[39m\n\u001b[1;32m      8\u001b[0m         \u001b[38;5;124m\"\u001b[39m\u001b[38;5;124mInstructions at http://xarray.pydata.org/en/stable/getting-started-guide/installing.html#instructions\u001b[39m\u001b[38;5;124m\"\u001b[39m\n\u001b[1;32m      9\u001b[0m     )\n\u001b[1;32m     11\u001b[0m \u001b[38;5;28;01mfrom\u001b[39;00m \u001b[38;5;21;01mpyqg\u001b[39;00m\u001b[38;5;21;01m.\u001b[39;00m\u001b[38;5;21;01merrors\u001b[39;00m \u001b[38;5;28;01mimport\u001b[39;00m DiagnosticNotFilledError\n\u001b[1;32m     13\u001b[0m \u001b[38;5;66;03m# Define dict for variable dimensions\u001b[39;00m\n",
      "\u001b[0;31mImportError\u001b[0m: Xarray output in Pyqg requires the Xarray package, which is not installed on your system. Please install Xarray in order to activate this feature. Instructions at http://xarray.pydata.org/en/stable/getting-started-guide/installing.html#instructions"
     ]
    }
   ],
   "source": [
    "m_ds = m.to_dataset().isel(time=-1)\n",
    "m_ds"
   ]
  },
  {
   "cell_type": "code",
   "execution_count": null,
   "id": "3f899a7b-f326-4ff9-a02a-3dde1e2c30a6",
   "metadata": {},
   "outputs": [],
   "source": []
  }
 ],
 "metadata": {
  "kernelspec": {
   "display_name": "Python 3 (ipykernel)",
   "language": "python",
   "name": "python3"
  },
  "language_info": {
   "codemirror_mode": {
    "name": "ipython",
    "version": 3
   },
   "file_extension": ".py",
   "mimetype": "text/x-python",
   "name": "python",
   "nbconvert_exporter": "python",
   "pygments_lexer": "ipython3",
   "version": "3.10.12"
  }
 },
 "nbformat": 4,
 "nbformat_minor": 5
}
