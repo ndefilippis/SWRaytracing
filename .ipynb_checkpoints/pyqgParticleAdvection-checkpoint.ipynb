{
 "cells": [
  {
   "cell_type": "code",
   "execution_count": 5,
   "id": "d5ae9b07-4ccb-48bc-8991-a553dc5fd6ad",
   "metadata": {},
   "outputs": [],
   "source": [
    "import numpy as np\n",
    "from matplotlib import pyplot as plt\n",
    "%matplotlib inline\n",
    "\n",
    "import pyqg\n",
    "from pyqg import diagnostic_tools as tools"
   ]
  },
  {
   "cell_type": "code",
   "execution_count": null,
   "id": "57ab322c-2da4-4b4d-887b-8599c5d3a4cb",
   "metadata": {},
   "outputs": [],
   "source": [
    "year = 24*60*60*360\n",
    "m = pyqg.QGModel(tmax=10*year, twrite=10000,tavestart=5*year)"
   ]
  }
 ],
 "metadata": {
  "kernelspec": {
   "display_name": "Python 3 (ipykernel)",
   "language": "python",
   "name": "python3"
  },
  "language_info": {
   "codemirror_mode": {
    "name": "ipython",
    "version": 3
   },
   "file_extension": ".py",
   "mimetype": "text/x-python",
   "name": "python",
   "nbconvert_exporter": "python",
   "pygments_lexer": "ipython3",
   "version": "3.10.12"
  }
 },
 "nbformat": 4,
 "nbformat_minor": 5
}
