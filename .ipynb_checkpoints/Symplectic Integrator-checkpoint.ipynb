{
 "cells": [
  {
   "cell_type": "code",
   "execution_count": 5,
   "metadata": {},
   "outputs": [
    {
     "ename": "LoadError",
     "evalue": "\u001b[91msyntax: \"%\" is not a unary operator\u001b[39m",
     "output_type": "error",
     "traceback": [
      "\u001b[91msyntax: \"%\" is not a unary operator\u001b[39m",
      "",
      "Stacktrace:",
      " [1] top-level scope at In[5]:37",
      " [2] include_string(::Function, ::Module, ::String, ::String) at .\\loading.jl:1091"
     ]
    }
   ],
   "source": [
    "function read_field(file,nx=1,ny=1,nz=1,frmvec=1,is_real=0,ftype='n',dtype=\"real*8\",unit=8)\n",
    "    # ftyped = 's';   % to read in Max files\n",
    "    ftyped = 'n';\n",
    "    framed = 1; nzd = 1; nyd = 1; nxd = 1;\n",
    "\n",
    "    # Assume its a complex field if dimensions are those of complex\n",
    "    # field from SQG\n",
    "    if (nx==2*ny-1)\n",
    "      is_reald=0;\n",
    "    else\n",
    "      is_reald=1;\n",
    "    end\n",
    "\n",
    "    # Open file\n",
    "    fnm = strcat(file,\".bin\"); \n",
    "    fid = open(fnm,'r');\n",
    "\n",
    "\n",
    "    if(nx == 1)\n",
    "       field = fread(fid,[nx inf],dtype);\n",
    "    else \n",
    "       j=0;\n",
    "       for frm = frmvec\n",
    "          j=j+1;\n",
    "          yvec = (j-1)*ny*nz+1:j*ny*nz;\n",
    "          if (is_real==0)\n",
    "             fseek(fid,unit*nx*ny*nz*2*(frm-1),-1);\n",
    "             fieldr = fread(fid,[nx ny*nz],dtype);\n",
    "             fieldi = fread(fid,[nx ny*nz],dtype);\n",
    "             field(1:nx,yvec) = fieldr + i*fieldi;\n",
    "          else\n",
    "             fseek(fid,unit*nx*ny*nz*(frm-1),-1);\n",
    "             field(1:nx,yvec) = fread(fid,[nx ny*nz],dtype);\n",
    "          end\n",
    "        end\n",
    "\n",
    "        # Layerize\n",
    "        temp = field;\n",
    "        field = zeros(nx,ny,nz,length(frmvec));\n",
    "        for frm = 1:length(frmvec)\n",
    "          for layer = 1:nz\n",
    "            lindi = ((frm-1)*nz+layer-1)*ny+1;\n",
    "            uindi = ((frm-1)*nz+layer)*ny;\n",
    "            field(:,:,layer,frm) = temp(:,lindi:uindi);\n",
    "          end\n",
    "        end\n",
    "        field = squeeze(field);  # in case nz=1 or frames=1;    \n",
    "    end\n",
    "    close(fid);   # Close file\n",
    "    return field\n",
    "end"
   ]
  },
  {
   "cell_type": "code",
   "execution_count": null,
   "metadata": {},
   "outputs": [],
   "source": []
  }
 ],
 "metadata": {
  "kernelspec": {
   "display_name": "Julia 1.5.1",
   "language": "julia",
   "name": "julia-1.5"
  },
  "language_info": {
   "file_extension": ".jl",
   "mimetype": "application/julia",
   "name": "julia",
   "version": "1.5.1"
  }
 },
 "nbformat": 4,
 "nbformat_minor": 2
}
