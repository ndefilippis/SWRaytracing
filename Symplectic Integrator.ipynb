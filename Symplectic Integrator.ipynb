{
 "cells": [
  {
   "cell_type": "code",
   "execution_count": 23,
   "metadata": {},
   "outputs": [
    {
     "data": {
      "text/plain": [
       "parse_data (generic function with 1 method)"
      ]
     },
     "execution_count": 23,
     "metadata": {},
     "output_type": "execute_result"
    }
   ],
   "source": [
    "function read_field(file,nx=1,ny=1,nz=1,frmvec=1,is_real=0,ftype='n',dtype=\"real*8\",unit=8)\n",
    "    # ftyped = 's';   % to read in Max files\n",
    "    ftyped = 'n';\n",
    "    framed = 1; nzd = 1; nyd = 1; nxd = 1;\n",
    "\n",
    "    # Assume its a complex field if dimensions are those of complex\n",
    "    # field from SQG\n",
    "    if (nx==2*ny-1)\n",
    "      is_reald=0;\n",
    "    else\n",
    "      is_reald=1;\n",
    "    end\n",
    "\n",
    "    # Open file\n",
    "    fnm = file * \".bin\"; \n",
    "    fid = open(fnm,\"r\");\n",
    "\n",
    "\n",
    "    if(nx == 1)\n",
    "       field = read(fid,[nx inf],dtype);\n",
    "    else \n",
    "       j=0;\n",
    "       for frm = frmvec\n",
    "          j=j+1;\n",
    "          yvec = (j-1)*ny*nz+1:j*ny*nz;\n",
    "          if (is_real==0)\n",
    "             seek(fid,unit*nx*ny*nz*2*(frm-1));\n",
    "             fieldr = read(fid,[nx ny*nz]);\n",
    "             fieldi = read(fid,[nx ny*nz]);\n",
    "             field[1:nx,yvec] = fieldr + i*fieldi;\n",
    "          else\n",
    "             seek(fid,unit*nx*ny*nz*(frm-1));\n",
    "             field[1:nx,yvec] = read(fid,[nx ny*nz]);\n",
    "          end\n",
    "        end\n",
    "\n",
    "        # Layerize\n",
    "        temp = field;\n",
    "        field = zeros(nx,ny,nz,length(frmvec));\n",
    "        for frm = 1:length(frmvec)\n",
    "          for layer = 1:nz\n",
    "            lindi = ((frm-1)*nz+layer-1)*ny+1;\n",
    "            uindi = ((frm-1)*nz+layer)*ny;\n",
    "            field[:,:,layer,frm] = temp[:,lindi:uindi];\n",
    "          end\n",
    "        end\n",
    "        field = squeeze(field);  # in case nz=1 or frames=1;    \n",
    "    end\n",
    "    close(fid);   # Close file\n",
    "    return field\n",
    "end\n",
    "\n",
    "function parse_data(filename)\n",
    "    data = readdlm(filename);\n",
    "    disp(typ)\n",
    "end"
   ]
  },
  {
   "cell_type": "code",
   "execution_count": 24,
   "metadata": {},
   "outputs": [
    {
     "ename": "LoadError",
     "evalue": "\u001b[91mMethodError: no method matching read(::IOStream, ::Array{Int64,2})\u001b[39m\n\u001b[91m\u001b[0mClosest candidates are:\u001b[39m\n\u001b[91m\u001b[0m  read(::IOStream) at iostream.jl:488\u001b[39m\n\u001b[91m\u001b[0m  read(::IOStream, \u001b[91m::Type{UInt8}\u001b[39m) at iostream.jl:383\u001b[39m\n\u001b[91m\u001b[0m  read(::IOStream, \u001b[91m::Union{Type{Int16}, Type{Int32}, Type{Int64}, Type{UInt16}, Type{UInt32}, Type{UInt64}}\u001b[39m) at iostream.jl:392\u001b[39m\n\u001b[91m\u001b[0m  ...\u001b[39m",
     "output_type": "error",
     "traceback": [
      "\u001b[91mMethodError: no method matching read(::IOStream, ::Array{Int64,2})\u001b[39m\n\u001b[91m\u001b[0mClosest candidates are:\u001b[39m\n\u001b[91m\u001b[0m  read(::IOStream) at iostream.jl:488\u001b[39m\n\u001b[91m\u001b[0m  read(::IOStream, \u001b[91m::Type{UInt8}\u001b[39m) at iostream.jl:383\u001b[39m\n\u001b[91m\u001b[0m  read(::IOStream, \u001b[91m::Union{Type{Int16}, Type{Int32}, Type{Int64}, Type{UInt16}, Type{UInt32}, Type{UInt64}}\u001b[39m) at iostream.jl:392\u001b[39m\n\u001b[91m\u001b[0m  ...\u001b[39m",
      "",
      "Stacktrace:",
      " [1] read_field(::String, ::Int64, ::Int64, ::Int64, ::Array{Int64,1}, ::Int64, ::Char, ::String, ::Int64) at .\\In[23]:28",
      " [2] read_field(::String, ::Int64, ::Int64, ::Int64, ::Array{Int64,1}) at .\\In[23]:3",
      " [3] top-level scope at In[24]:1",
      " [4] include_string(::Function, ::Module, ::String, ::String) at .\\loading.jl:1091"
     ]
    }
   ],
   "source": [
    "read_field(\"pv\", 256, 256, 1, [2000])"
   ]
  },
  {
   "cell_type": "code",
   "execution_count": 10,
   "metadata": {},
   "outputs": [
    {
     "ename": "LoadError",
     "evalue": "\u001b[91mUndefVarError: readdlm not defined\u001b[39m",
     "output_type": "error",
     "traceback": [
      "\u001b[91mUndefVarError: readdlm not defined\u001b[39m",
      "",
      "Stacktrace:",
      " [1] top-level scope at In[10]:1",
      " [2] include_string(::Function, ::Module, ::String, ::String) at .\\loading.jl:1091"
     ]
    }
   ],
   "source": [
    "x = readdlm(\"run.log\")"
   ]
  },
  {
   "cell_type": "code",
   "execution_count": 14,
   "metadata": {},
   "outputs": [
    {
     "ename": "LoadError",
     "evalue": "\u001b[91mMethodError: no method matching +(::String, ::String)\u001b[39m\n\u001b[91m\u001b[0mClosest candidates are:\u001b[39m\n\u001b[91m\u001b[0m  +(::Any, ::Any, \u001b[91m::Any\u001b[39m, \u001b[91m::Any...\u001b[39m) at operators.jl:538\u001b[39m",
     "output_type": "error",
     "traceback": [
      "\u001b[91mMethodError: no method matching +(::String, ::String)\u001b[39m\n\u001b[91m\u001b[0mClosest candidates are:\u001b[39m\n\u001b[91m\u001b[0m  +(::Any, ::Any, \u001b[91m::Any\u001b[39m, \u001b[91m::Any...\u001b[39m) at operators.jl:538\u001b[39m",
      "",
      "Stacktrace:",
      " [1] top-level scope at In[14]:1",
      " [2] include_string(::Function, ::Module, ::String, ::String) at .\\loading.jl:1091"
     ]
    }
   ],
   "source": [
    "\"abc\" + \"def\""
   ]
  },
  {
   "cell_type": "code",
   "execution_count": null,
   "metadata": {},
   "outputs": [],
   "source": []
  }
 ],
 "metadata": {
  "kernelspec": {
   "display_name": "Julia 1.5.1",
   "language": "julia",
   "name": "julia-1.5"
  },
  "language_info": {
   "file_extension": ".jl",
   "mimetype": "application/julia",
   "name": "julia",
   "version": "1.5.1"
  }
 },
 "nbformat": 4,
 "nbformat_minor": 2
}
